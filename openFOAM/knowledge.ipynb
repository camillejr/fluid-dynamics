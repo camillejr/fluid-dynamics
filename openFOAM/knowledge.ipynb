{
 "cells": [
  {
   "cell_type": "markdown",
   "metadata": {},
   "source": [
    "# OpenFOAM knowledge\n",
    "\n",
    "(perhaps jupyter isn't a great choice for taking notes on OpenFOAM)\n",
    "\n",
    "## Project preprocessing\n",
    "\n",
    "Directory structure convention:\n",
    "\n",
    "* Name your main directory with the name of the application\n",
    "* The main directory must contain the subdirectory called `Make`\n",
    "* The `Make` subdirectory must contain two files: `options` and `files`\n",
    "\n",
    "You will be than able to compile with `wmake`.\n"
   ]
  },
  {
   "cell_type": "markdown",
   "metadata": {},
   "source": [
    "## Lid-driven cavity example\n",
    "\n",
    "`icoFoam` - solver for laminar, isothermal, incompressible flow\n",
    "\n",
    "`pisoFoam` - solver for turbulent, isothermal, incompressible flow\n",
    "\n",
    "Files:\n",
    "\n",
    "`blockMeshDict` - is an input dictionary describing the mesh\n",
    "\n",
    "later on, `blockMesh` runs the `blockMeshDict` and generates the mesh.\n"
   ]
  },
  {
   "cell_type": "code",
   "execution_count": null,
   "metadata": {},
   "outputs": [],
   "source": []
  }
 ],
 "metadata": {
  "kernelspec": {
   "display_name": "Python 2",
   "language": "python",
   "name": "python2"
  },
  "language_info": {
   "codemirror_mode": {
    "name": "ipython",
    "version": 2
   },
   "file_extension": ".py",
   "mimetype": "text/x-python",
   "name": "python",
   "nbconvert_exporter": "python",
   "pygments_lexer": "ipython2",
   "version": "2.7.6"
  }
 },
 "nbformat": 4,
 "nbformat_minor": 2
}
