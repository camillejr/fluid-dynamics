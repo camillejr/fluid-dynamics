{
 "cells": [
  {
   "cell_type": "markdown",
   "metadata": {},
   "source": [
    "# Steady-state conduction in a lengthwise-insulated rod with internal heat production\n",
    "\n",
    "In this notebook we present the code behind [heat transfer in a rod tutorial](https://github.com/camillejr/fluid-dynamics-and-transport-phenomena/blob/master/transport-phenomena-with-Python/example-heat-transfer-in-a-rod.pdf).\n",
    "\n",
    "The governing ODE for this problem:\n",
    "\n",
    "$$\\frac{d^2 T}{dx^2} = - \\frac{Q_p}{\\lambda}$$\n",
    "\n",
    "We start with computing the analytic solution and then compare that with a few numerical solutions.\n",
    "\n",
    "***"
   ]
  },
  {
   "cell_type": "code",
   "execution_count": 1,
   "metadata": {},
   "outputs": [],
   "source": [
    "from matplotlib import pyplot as plt\n",
    "import matplotlib.patches as patches\n",
    "import math\n",
    "import numpy as np\n",
    "\n",
    "# Set some initial parameters:\n",
    "fontsize_labels = 20\n",
    "fontsize_axes = 16\n",
    "fontsize_text = 16\n",
    "save_plots = True\n",
    "line_color = '#0e2f44'\n",
    "FDM_color = '#4fb49d'\n",
    "FVM_color = '#d57211'\n",
    "bar_color = '#767676'\n",
    "help_lines = \"#e5e5e5\"\n",
    "\n",
    "# Fonts:\n",
    "csfont = {'fontname':'Charter', 'fontweight':'regular'}\n",
    "hfont = {'fontname':'Charter', 'fontweight':'bold'}"
   ]
  },
  {
   "cell_type": "markdown",
   "metadata": {},
   "source": [
    "***\n",
    "\n",
    "## Analytic solution\n",
    "\n",
    "We begin with plotting the analytic solution:\n",
    "\n",
    "$$T(x) = - \\frac{Q_p}{2 \\lambda} (x^2 - Lx) + T_0$$\n",
    "\n",
    "First, let's set the data for this exercise:"
   ]
  },
  {
   "cell_type": "code",
   "execution_count": 2,
   "metadata": {},
   "outputs": [],
   "source": [
    "T0 = 0       # deg C\n",
    "L = 200      # m\n",
    "A = 0.01     # m^2 \n",
    "Q = 20       # W\n",
    "Qp = Q/(L*A) # W/m^3\n",
    "𝝀 = 400      # W/(m*C)\n",
    "\n",
    "# Discretize the rod:\n",
    "n_points = 200\n",
    "x = np.linspace(0, L, n_points)\n",
    "\n",
    "# Analytic solution:\n",
    "T = - Qp/(2*𝝀) * (x**2 - L * x) + T0"
   ]
  },
  {
   "cell_type": "markdown",
   "metadata": {},
   "source": [
    "Plot the analytic solution:"
   ]
  },
  {
   "cell_type": "code",
   "execution_count": 3,
   "metadata": {},
   "outputs": [
    {
     "data": {
      "image/png": "[encoded data removed]",
      "text/plain": [
       "<Figure size 720x360 with 1 Axes>"
      ]
     },
     "metadata": {
      "needs_background": "light"
     },
     "output_type": "display_data"
    }
   ],
   "source": [
    "figure = plt.figure(figsize=(10, 5))\n",
    "ax1 = figure.add_subplot(1,1,1)\n",
    "plt.plot(x, T, color=line_color, linestyle='-', linewidth=2.0, zorder=1)\n",
    "plt.xlabel(r'x [m]', fontsize=fontsize_labels, **csfont)\n",
    "plt.ylabel(r'T(x) [$^o C$]', fontsize=fontsize_labels, **csfont)\n",
    "plt.xlim(-0.05*L, 1.05*L)\n",
    "plt.ylim(-0.15*max(T), 1.1*max(T))\n",
    "ax1.spines[\"top\"].set_visible(False)\n",
    "ax1.spines[\"bottom\"].set_visible(False)\n",
    "ax1.spines[\"right\"].set_visible(False)\n",
    "ax1.spines[\"left\"].set_visible(False)\n",
    "ax1.margins(x=0)\n",
    "plt.rcParams['axes.xmargin'] = 0\n",
    "\n",
    "ax1.add_patch(\n",
    "    patches.Rectangle(\n",
    "        (0, -0.1*max(T)),\n",
    "        L,\n",
    "        0.1*max(T),\n",
    "        Fill=False,\n",
    "        edgecolor=bar_color,\n",
    "        linewidth=1,\n",
    "        hatch='\\\\'\n",
    "    )\n",
    ")\n",
    "\n",
    "for label in (ax1.get_xticklabels()):\n",
    "    label.set_fontname('Charter')\n",
    "    label.set_fontweight('regular')\n",
    "    label.set_fontsize(fontsize_axes)\n",
    "\n",
    "for label in (ax1.get_yticklabels()):\n",
    "    label.set_fontname('Charter')\n",
    "    label.set_fontweight('regular')\n",
    "    label.set_fontsize(fontsize_axes)\n",
    "\n",
    "for y in np.arange(min(T), 1.1*max(T), 50):\n",
    "    plt.plot([-0.05*L, 1.05*L], [y, y], \"-\", lw=1, color=help_lines, zorder=-1, alpha=0.4)\n",
    "\n",
    "if save_plots==True: plt.savefig('../plots/example-heat-transfer-in-a-rod-analytic.png', dpi = 500, bbox_inches='tight')"
   ]
  },
  {
   "cell_type": "markdown",
   "metadata": {},
   "source": [
    "***\n",
    "\n",
    "## Numerical solutions\n",
    "\n",
    "We are going to solve a second-order linear ODE:\n",
    "\n",
    "$$\\frac{d^2 T}{dx^2} = - \\frac{Q_p}{\\lambda}$$\n",
    "\n",
    "with two Dirichlet boundary conditions: $T(x=0) = 0$ and $T(x=L) = 0$.\n",
    "\n",
    "### Finite Difference Method (FDM)\n",
    "\n",
    "Using the second-order central difference approximation we have:\n",
    "\n",
    "$$\\frac{T_{i-1} - 2 T_i + T_{i+1}}{\\Delta x^2} = - \\frac{Q_p}{\\lambda}$$\n",
    "\n",
    "which we can also write as:\n",
    "\n",
    "$$T_{i-1} - 2 T_i + T_{i+1} = - \\Delta x^2 \\frac{Q_p}{\\lambda}$$\n",
    "\n",
    "to have a better view of the matrix form of the system of equations. Having selected `n_points` that discretize the domain, we have $n$=`n_points` equations to solve.\n",
    "\n",
    "In a matrix form those can be written as:\n",
    "\n",
    "\\begin{gather}\n",
    "\\begin{bmatrix}\n",
    "1 & 0 & 0 & 0 & 0 & \\dots & 0 \\\\\n",
    "1 & -2 & 1 & 0 & 0 & \\dots & 0 \\\\\n",
    "0 & 1 & -2 & 1 & 0 & \\dots & 0 \\\\\n",
    "\\vdots \\\\\n",
    "0 & 0 & 0 & 0 & 0 & \\dots & 1 \\\\\n",
    "\\end{bmatrix}\n",
    "\\begin{bmatrix}\n",
    "T_1  \\\\\n",
    "T_2 \\\\\n",
    "T_2 \\\\\n",
    "\\vdots \\\\\n",
    "T_n \\\\\n",
    "\\end{bmatrix}\n",
    "=\n",
    "\\begin{bmatrix}\n",
    "T_0  \\\\\n",
    "- \\Delta x^2 \\frac{Q_p}{\\lambda} \\\\\n",
    "- \\Delta x^2 \\frac{Q_p}{\\lambda} \\\\\n",
    "\\vdots \\\\\n",
    "T_0 \\\\\n",
    "\\end{bmatrix}\n",
    "\\end{gather}\n",
    "\n",
    "Or in general as: $\\mathbf{A} \\mathbf{T} = \\mathbf{R}$. Notice that the matrix $\\mathbf{A}$ is a tridiagonal matrix. We will use that information to construct that matrix using `np.diag()` methods."
   ]
  },
  {
   "cell_type": "code",
   "execution_count": 4,
   "metadata": {},
   "outputs": [],
   "source": [
    "def solve_with_fdm(n):\n",
    "    \n",
    "    dx = L/(n-1)\n",
    "\n",
    "    # Construct three diagonals:\n",
    "    upper_diagonal = np.ones(n-1)\n",
    "    diagonal = - 2*np.ones(n)\n",
    "    lower_diagonal = np.ones(n-1)\n",
    "    \n",
    "    # Construct the right-hand-side matrix:\n",
    "    R = np.ones(n) * (-dx**2 * (Qp/𝝀))\n",
    "\n",
    "    # Set the boundary conditions:\n",
    "    upper_diagonal[0] = 0\n",
    "    diagonal[0] = 1\n",
    "    diagonal[-1] = 1\n",
    "    lower_diagonal[-1] = 0  \n",
    "    R[0] = T0\n",
    "    R[-1] = T0\n",
    "        \n",
    "    # Construct the matrix A from the three diagonals:\n",
    "    A = np.diag(lower_diagonal, -1) + np.diag(diagonal, 0) + np.diag(upper_diagonal, 1)\n",
    "    \n",
    "    # Solve system of equations:\n",
    "    T = np.linalg.solve(A, R)\n",
    "\n",
    "    return T"
   ]
  },
  {
   "cell_type": "code",
   "execution_count": 5,
   "metadata": {},
   "outputs": [],
   "source": [
    "n_points = 5\n",
    "x_FDM = np.linspace(0, L, n_points)\n",
    "T_FDM = solve_with_fdm(n_points)"
   ]
  },
  {
   "cell_type": "markdown",
   "metadata": {},
   "source": [
    "Plot the numerical solution using FDM on top of the analytic solution:"
   ]
  },
  {
   "cell_type": "code",
   "execution_count": 6,
   "metadata": {},
   "outputs": [
    {
     "data": {
      "image/png": "[encoded data removed]",
      "text/plain": [
       "<Figure size 720x360 with 1 Axes>"
      ]
     },
     "metadata": {
      "needs_background": "light"
     },
     "output_type": "display_data"
    }
   ],
   "source": [
    "figure = plt.figure(figsize=(10, 5))\n",
    "ax1 = figure.add_subplot(1,1,1)\n",
    "plt.plot(x, T, color=line_color, linestyle='-', linewidth=2.0, zorder=1)\n",
    "plt.plot(x_FDM, T_FDM, color=FDM_color, linestyle='-', linewidth=2.0, zorder=1)\n",
    "plt.xlabel(r'x [m]', fontsize=fontsize_labels, **csfont)\n",
    "plt.ylabel(r'T(x) [$^o C$]', fontsize=fontsize_labels, **csfont)\n",
    "plt.xlim(-0.05*L, 1.05*L)\n",
    "plt.ylim(-0.15*max(T), 1.1*max(T))\n",
    "ax1.spines[\"top\"].set_visible(False)\n",
    "ax1.spines[\"bottom\"].set_visible(False)\n",
    "ax1.spines[\"right\"].set_visible(False)\n",
    "ax1.spines[\"left\"].set_visible(False)\n",
    "ax1.margins(x=0)\n",
    "plt.rcParams['axes.xmargin'] = 0\n",
    "\n",
    "ax1.add_patch(\n",
    "    patches.Rectangle(\n",
    "        (0, -0.1*max(T)),\n",
    "        L,\n",
    "        0.1*max(T),\n",
    "        Fill=False,\n",
    "        edgecolor=bar_color,\n",
    "        linewidth=1,\n",
    "        hatch='\\\\'\n",
    "    )\n",
    ")\n",
    "\n",
    "for label in (ax1.get_xticklabels()):\n",
    "    label.set_fontname('Charter')\n",
    "    label.set_fontweight('regular')\n",
    "    label.set_fontsize(fontsize_axes)\n",
    "\n",
    "for label in (ax1.get_yticklabels()):\n",
    "    label.set_fontname('Charter')\n",
    "    label.set_fontweight('regular')\n",
    "    label.set_fontsize(fontsize_axes)\n",
    "\n",
    "for y in np.arange(min(T), 1.1*max(T), 50):\n",
    "    plt.plot([-0.05*L, 1.05*L], [y, y], \"-\", lw=1, color=help_lines, zorder=-1, alpha=0.4)\n",
    "\n",
    "if save_plots==True: plt.savefig('../plots/example-heat-transfer-in-a-rod-FDM.png', dpi = 500, bbox_inches='tight')"
   ]
  },
  {
   "cell_type": "markdown",
   "metadata": {},
   "source": [
    "***\n",
    "\n",
    "### Finite Volume Method (FVM)"
   ]
  },
  {
   "cell_type": "code",
   "execution_count": null,
   "metadata": {},
   "outputs": [],
   "source": []
  }
 ],
 "metadata": {
  "kernelspec": {
   "display_name": "Python 3",
   "language": "python",
   "name": "python3"
  },
  "language_info": {
   "codemirror_mode": {
    "name": "ipython",
    "version": 3
   },
   "file_extension": ".py",
   "mimetype": "text/x-python",
   "name": "python",
   "nbconvert_exporter": "python",
   "pygments_lexer": "ipython3",
   "version": "3.7.6"
  }
 },
 "nbformat": 4,
 "nbformat_minor": 4
}
