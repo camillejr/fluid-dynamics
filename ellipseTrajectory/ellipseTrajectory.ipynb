{
 "cells": [
  {
   "cell_type": "markdown",
   "metadata": {},
   "source": [
    "# Ellipse trajectory of a fluid particle\n",
    "\n",
    "## Problem\n",
    "\n",
    "Probably one of the most amazing fluid mechanics pictures that I saw was a photograph of the ellipsoid trajectories of fluid particles in water, where at the free surface a sinusoidal wave propagates.\n",
    "\n",
    "## Maths\n",
    "\n",
    "To prove that the motion of particles should really be ellipsoid, we start with the continuity equation for constant pressure:\n",
    "\n",
    "$\\frac{\\partial u}{\\partial x} + \\frac{\\partial v}{\\partial y} + \\frac{\\partial w}{\\partial z} = 0$\n",
    "\n",
    "Let's assume that the velocity component $u$ in the $x$-direction is described by:\n",
    "\n",
    "$u = U \\sin(kx - \\omega t)$\n",
    "\n",
    "and the velocity component $v$ in the $y$-direction is zero:\n",
    "\n",
    "The continuty equation becomes:\n",
    "\n",
    "$\\frac{\\partial w}{\\partial z} = - \\frac{\\partial u}{\\partial x}$\n",
    "\n",
    "$\\frac{\\partial w}{\\partial z} = - k U \\cos(kx - \\omega t)$\n",
    "\n",
    "\n",
    "The vertical velocity component $w$ is therefore:\n",
    "\n",
    "$w = - kUz \\cos(kx - \\omega t)$\n",
    "\n",
    "The amplitude of the velocity component $u$ was $U$ and the amplitude of the velocity component $w$ is $kUz$. In the general case this amplitudes will not be equal to each other, so the trajectory of a fluid particle is expected to be an ellipse.\n",
    "\n",
    "### Ending note\n",
    "\n",
    "At some fixed distance $H$ from the bottom, the velocity component $w$ has got the amplitude of $kUH$. Notice that as the distance from the bottom increase, so does the amplitude.\n",
    "\n",
    "## Graphs"
   ]
  },
  {
   "cell_type": "code",
   "execution_count": 3,
   "metadata": {},
   "outputs": [],
   "source": [
    "k = 1\n",
    "U = 2\n",
    "omega = 1\n",
    "H = 10\n"
   ]
  },
  {
   "cell_type": "code",
   "execution_count": null,
   "metadata": {},
   "outputs": [],
   "source": []
  }
 ],
 "metadata": {
  "kernelspec": {
   "display_name": "Python 2",
   "language": "python",
   "name": "python2"
  },
  "language_info": {
   "codemirror_mode": {
    "name": "ipython",
    "version": 2
   },
   "file_extension": ".py",
   "mimetype": "text/x-python",
   "name": "python",
   "nbconvert_exporter": "python",
   "pygments_lexer": "ipython2",
   "version": "2.7.6"
  }
 },
 "nbformat": 4,
 "nbformat_minor": 2
}
